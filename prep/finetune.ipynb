{
 "cells": [
  {
   "cell_type": "code",
   "execution_count": 1,
   "metadata": {},
   "outputs": [],
   "source": [
    "import sys\n",
    "\n",
    "# in order to import the modules located at the root directory\n",
    "sys.path.append(\"..\")"
   ]
  },
  {
   "cell_type": "code",
   "execution_count": 2,
   "metadata": {},
   "outputs": [],
   "source": [
    "import logging\n",
    "from importlib import reload  # Not needed in Python 2\n",
    "\n",
    "reload(logging)\n",
    "logging.basicConfig(\n",
    "    format=\"%(message)s\",\n",
    "    level=logging.DEBUG,\n",
    ")\n",
    "\n",
    "LOGGER = logging.getLogger(__name__)"
   ]
  },
  {
   "cell_type": "code",
   "execution_count": 3,
   "metadata": {},
   "outputs": [
    {
     "name": "stderr",
     "output_type": "stream",
     "text": [
      "Note: NumExpr detected 10 cores but \"NUMEXPR_MAX_THREADS\" not set, so enforcing safe limit of 8.\n",
      "NumExpr defaulting to 8 threads.\n",
      "Starting new HTTPS connection (1): huggingface.co:443\n",
      "https://huggingface.co:443 \"HEAD /klue/roberta-base/resolve/main/tokenizer_config.json HTTP/1.1\" 200 0\n",
      "Number of sessions: 236\n",
      "https://huggingface.co:443 \"HEAD /klue/roberta-base/resolve/main/tokenizer_config.json HTTP/1.1\" 200 0\n",
      "Number of sessions: 236\n"
     ]
    }
   ],
   "source": [
    "from mrs.utils import SessionBuilder\n",
    "from mrs.finetune_dataset import FinetuneDataset\n",
    "\n",
    "builder = SessionBuilder(style=\"formal\")\n",
    "train_dataset = FinetuneDataset(builder=builder, train=True)\n",
    "valid_dataset = FinetuneDataset(builder=builder, train=False)"
   ]
  },
  {
   "cell_type": "code",
   "execution_count": 4,
   "metadata": {},
   "outputs": [],
   "source": [
    "from torch.utils.data import DataLoader\n",
    "from mrs.finetune_dataset import FinetuneDatasetCollator\n",
    "\n",
    "train_loader = DataLoader(\n",
    "    train_dataset,\n",
    "    batch_size=2,\n",
    "    shuffle=True,\n",
    "    collate_fn=FinetuneDatasetCollator(\n",
    "        pad_idx=train_dataset.tokenizer.pad_token_id, max_length=99999\n",
    "    ),\n",
    ")\n",
    "\n",
    "valid_loader = DataLoader(\n",
    "    valid_dataset,\n",
    "    batch_size=2,\n",
    "    shuffle=False,\n",
    "    collate_fn=FinetuneDatasetCollator(\n",
    "        pad_idx=valid_dataset.tokenizer.pad_token_id, max_length=99999\n",
    "    ),\n",
    ")"
   ]
  },
  {
   "cell_type": "code",
   "execution_count": 5,
   "metadata": {},
   "outputs": [],
   "source": [
    "import torch\n",
    "import torch.nn as nn\n",
    "from transformers import RobertaForMaskedLM\n",
    "\n",
    "\n",
    "class FinetuneModel(nn.Module):\n",
    "    def __init__(self, input_size):\n",
    "        super(FinetuneModel, self).__init__()\n",
    "        # defined in huggingface PreTrainedTokenizer\n",
    "        # input_size = len(tokenizer) = tokenizer.vocab_size + len(tokenizer.added_tokens_encoder)\n",
    "\n",
    "        self.model = RobertaForMaskedLM.from_pretrained(\"klue/roberta-base\")\n",
    "        self.model.resize_token_embeddings(input_size)\n",
    "\n",
    "        hidden_size = self.model.config.hidden_size\n",
    "\n",
    "        # `generator` used in postmodel will not be used in Finetuning Model\n",
    "        # instead, here use `W` as the name of variable to compress the embedding dimension.\n",
    "        # therefore, when loading state dictionary (model params) of the PostModel,\n",
    "        # the `strict=False` parameter must be specified in order to avoid error.\n",
    "        self.w = nn.Linear(hidden_size, 2)\n",
    "\n",
    "    def forward(self, batch_input_tokens, batch_input_attentions):\n",
    "        # binary classification\n",
    "        outputs = self.model(\n",
    "            input_ids=batch_input_tokens,\n",
    "            attention_mask=batch_input_attentions,\n",
    "            output_hidden_states=True,\n",
    "        )[\"hidden_states\"][-1]\n",
    "        # |outputs| = (bs*5, length, hidden_size)\n",
    "        # 5 = number of sessions per batch\n",
    "        cls_outputs = outputs[:, 0, :]\n",
    "        # |cls_outputs| = (bs*5, hidden_size)\n",
    "        cls_logits = self.w(cls_outputs)\n",
    "        # |cls_logits| = (bs*5, 2)\n",
    "        return cls_logits"
   ]
  },
  {
   "cell_type": "code",
   "execution_count": 7,
   "metadata": {},
   "outputs": [
    {
     "name": "stderr",
     "output_type": "stream",
     "text": [
      "https://huggingface.co:443 \"HEAD /klue/roberta-base/resolve/main/config.json HTTP/1.1\" 200 0\n",
      "You are resizing the embedding layer without providing a `pad_to_multiple_of` parameter. This means that the new embeding dimension will be 32001. This might induce some performance reduction as *Tensor Cores* will not be available. For more details  about this, or help on choosing the correct value for resizing, refer to this guide: https://docs.nvidia.com/deeplearning/performance/dl-performance-matrix-multiplication/index.html#requirements-tc\n"
     ]
    }
   ],
   "source": [
    "fine_model = FinetuneModel(input_size=len(train_loader.dataset.tokenizer))\n",
    "post_model = torch.load(\"../data/post_model.bin\", map_location=\"cpu\")\n",
    "fine_model.load_state_dict(post_model, strict=False)\n",
    "del post_model"
   ]
  },
  {
   "cell_type": "code",
   "execution_count": 8,
   "metadata": {},
   "outputs": [
    {
     "name": "stdout",
     "output_type": "stream",
     "text": [
      "Initialization done.\n"
     ]
    }
   ],
   "source": [
    "from transformers import get_linear_schedule_with_warmup\n",
    "\n",
    "\n",
    "def get_crit(pad_idx):\n",
    "    crit = nn.CrossEntropyLoss(ignore_index=pad_idx)\n",
    "    return crit\n",
    "\n",
    "\n",
    "def get_optimizer(model, lr):\n",
    "    optimizer = torch.optim.AdamW(model.parameters(), lr=lr)\n",
    "    return optimizer\n",
    "\n",
    "\n",
    "training_epochs = 5\n",
    "max_grad_norm = 10\n",
    "lr = 1e-5\n",
    "n_training_steps = len(train_loader) * training_epochs\n",
    "n_warmup_steps = len(train_loader)\n",
    "crit = get_crit(pad_idx=train_loader.dataset.tokenizer.pad_token_id)\n",
    "optimizer = get_optimizer(fine_model, lr)\n",
    "scheduler = get_linear_schedule_with_warmup(\n",
    "    optimizer, num_warmup_steps=n_warmup_steps, num_training_steps=n_training_steps\n",
    ")\n",
    "\n",
    "# load model, criterion to mps\n",
    "fine_model.to(\"mps:{}\".format(0))\n",
    "crit.to(\"mps:{}\".format(0))\n",
    "\n",
    "print(\"Initialization done.\")"
   ]
  },
  {
   "cell_type": "code",
   "execution_count": 20,
   "metadata": {},
   "outputs": [
    {
     "name": "stderr",
     "output_type": "stream",
     "text": [
      "**** Training Epoch: 0 ****\n",
      "100%|██████████| 1510/1510 [09:02<00:00,  2.78it/s]\n"
     ]
    }
   ],
   "source": [
    "from tqdm import tqdm\n",
    "\n",
    "loss_traces = []\n",
    "\n",
    "for epoch in range(training_epochs):\n",
    "    LOGGER.info(f\"**** Training Epoch: {epoch} ****\")\n",
    "\n",
    "    # turn on train mode\n",
    "    fine_model.train()\n",
    "\n",
    "    for i, batch in enumerate(tqdm(train_loader)):\n",
    "        device = next(fine_model.parameters()).device\n",
    "        optimizer.zero_grad()\n",
    "\n",
    "        batch_input_tokens, batch_input_attentions, batch_input_labels = (\n",
    "            batch[\"batch_input_tokens\"].to(device),\n",
    "            batch[\"batch_input_attentions\"].to(device),\n",
    "            batch[\"batch_labels\"].to(device),\n",
    "        )\n",
    "\n",
    "        # forward model\n",
    "        outputs = fine_model(batch_input_tokens, batch_input_attentions)\n",
    "        loss_val = crit(outputs, batch_input_labels)\n",
    "\n",
    "        loss_traces += [loss_val.item()]\n",
    "\n",
    "        # backward loss\n",
    "        loss_val.backward()\n",
    "\n",
    "        # clip gradient\n",
    "        torch.nn.utils.clip_grad_norm_(fine_model.parameters(), max_grad_norm)\n",
    "\n",
    "        optimizer.step()\n",
    "        scheduler.step()\n",
    "    break"
   ]
  },
  {
   "cell_type": "code",
   "execution_count": 22,
   "metadata": {},
   "outputs": [
    {
     "data": {
      "image/png": "[encoded data removed]",
      "text/plain": [
       "<Figure size 640x480 with 1 Axes>"
      ]
     },
     "metadata": {},
     "output_type": "display_data"
    }
   ],
   "source": [
    "import numpy as np\n",
    "import matplotlib.pyplot as plt\n",
    "from typing import List\n",
    "\n",
    "\n",
    "def plot_loss(loss_traces: List):\n",
    "    plt.plot(np.arange(1, len(loss_traces) + 1), loss_traces)\n",
    "    plt.xlabel(\"Training Steps\")\n",
    "    plt.ylabel(\"Loss\")\n",
    "    plt.title(\"Loss Traces\")\n",
    "    plt.show()\n",
    "\n",
    "\n",
    "plot_loss(loss_traces=loss_traces)"
   ]
  },
  {
   "cell_type": "code",
   "execution_count": null,
   "metadata": {},
   "outputs": [],
   "source": [
    "import os\n",
    "\n",
    "\n",
    "def save_model(model, path):\n",
    "    if not os.path.exists(path):\n",
    "        os.makedirs(path)\n",
    "    torch.save(model.state_dict(), os.path.join(path, \"fine_model.bin\"))\n",
    "\n",
    "\n",
    "save_model(fine_model, \"../data\")"
   ]
  },
  {
   "cell_type": "code",
   "execution_count": 9,
   "metadata": {},
   "outputs": [
    {
     "name": "stderr",
     "output_type": "stream",
     "text": [
      "https://huggingface.co:443 \"HEAD /klue/roberta-base/resolve/main/config.json HTTP/1.1\" 200 0\n",
      "You are resizing the embedding layer without providing a `pad_to_multiple_of` parameter. This means that the new embeding dimension will be 32001. This might induce some performance reduction as *Tensor Cores* will not be available. For more details  about this, or help on choosing the correct value for resizing, refer to this guide: https://docs.nvidia.com/deeplearning/performance/dl-performance-matrix-multiplication/index.html#requirements-tc\n"
     ]
    },
    {
     "data": {
      "text/plain": [
       "<All keys matched successfully>"
      ]
     },
     "execution_count": 9,
     "metadata": {},
     "output_type": "execute_result"
    }
   ],
   "source": [
    "fine_model = FinetuneModel(input_size=len(train_loader.dataset.tokenizer))\n",
    "fine_model.load_state_dict(torch.load(\"../data/fine_model.bin\"), strict=True)"
   ]
  },
  {
   "cell_type": "code",
   "execution_count": 142,
   "metadata": {},
   "outputs": [
    {
     "name": "stderr",
     "output_type": "stream",
     "text": [
      "evaluation: 100%|██████████| 107/107 [00:28<00:00,  3.74it/s]\n"
     ]
    }
   ],
   "source": [
    "import numpy as np\n",
    "from tqdm import tqdm\n",
    "\n",
    "\n",
    "# evaluation\n",
    "def calc_recall_at_1_score(model: nn.Module, dataloader):\n",
    "    # b.c. recall 5 at \"1\" - each batch consists of 1 positive ground true session, 4 negative sessions.\n",
    "    # thereby only recall/precision@1 metric is available.\n",
    "    model.eval()\n",
    "    softmax = nn.Softmax(dim=1)\n",
    "    bs = dataloader.batch_size\n",
    "\n",
    "    correct = 0\n",
    "\n",
    "    with torch.no_grad():\n",
    "        for i, batch in enumerate(tqdm(dataloader, desc=\"evaluation\")):\n",
    "            device = next(model.parameters()).device\n",
    "\n",
    "            # to gpu\n",
    "            batch_input_tokens, batch_input_attentions, batch_input_labels = (\n",
    "                batch[\"batch_input_tokens\"].to(device),\n",
    "                batch[\"batch_input_attentions\"].to(device),\n",
    "                batch[\"batch_labels\"].to(device),\n",
    "            )\n",
    "\n",
    "            # prediction\n",
    "            outputs = fine_model(batch_input_tokens, batch_input_attentions)\n",
    "            # |outputs| = (bs*5, 2)\n",
    "            probs = softmax(outputs)\n",
    "            # |probs| = (bs*5, 2)\n",
    "\n",
    "            # our task is to select the true candidate among the N candidates (here we set as 5)\n",
    "            # the evaluation process is slightly different from the simple binary classification task.\n",
    "            true_probs = probs[:, 1]  # 1 here means the positive label index\n",
    "\n",
    "            pred_indices = []\n",
    "            for i in range(bs):\n",
    "                _true_probs = true_probs[i * bs : i * bs + bs]\n",
    "                # select the candidate has the highest probability, and that one is the predicted candidate\n",
    "                pred_indices += [_true_probs.argmax(0).item()]\n",
    "            pred_indices = np.array(pred_indices)\n",
    "\n",
    "            gt_indices = (batch_input_labels == 1).nonzero().squeeze().numpy()\n",
    "            correct += ((pred_indices == gt_indices).sum()) / 1\n",
    "\n",
    "    return correct / len(dataloader)\n",
    "\n",
    "\n",
    "score = calc_recall_at_1_score(fine_model, valid_loader)"
   ]
  },
  {
   "cell_type": "code",
   "execution_count": 144,
   "metadata": {},
   "outputs": [
    {
     "name": "stdout",
     "output_type": "stream",
     "text": [
      "0.6542056074766355\n"
     ]
    }
   ],
   "source": [
    "# train only 1 epoch:\n",
    "print(score)"
   ]
  }
 ],
 "metadata": {
  "kernelspec": {
   "display_name": "nlp",
   "language": "python",
   "name": "python3"
  },
  "language_info": {
   "codemirror_mode": {
    "name": "ipython",
    "version": 3
   },
   "file_extension": ".py",
   "mimetype": "text/x-python",
   "name": "python",
   "nbconvert_exporter": "python",
   "pygments_lexer": "ipython3",
   "version": "3.10.0"
  }
 },
 "nbformat": 4,
 "nbformat_minor": 2
}
